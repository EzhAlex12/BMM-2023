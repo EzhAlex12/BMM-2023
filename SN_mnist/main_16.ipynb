{
 "cells": [
  {
   "cell_type": "code",
   "execution_count": 1,
   "metadata": {},
   "outputs": [],
   "source": [
    "import numpy as np\n",
    "import os\n",
    "import cv2\n",
    "import json\n",
    "from PIL import Image\n",
    "import torch\n",
    "import torch.nn as nn\n",
    "import torch.nn.functional as F\n",
    "from torch.utils.data import Dataset, DataLoader\n",
    "import torch.optim as optim"
   ]
  },
  {
   "cell_type": "code",
   "execution_count": 2,
   "metadata": {},
   "outputs": [],
   "source": [
    "class Net(nn.Module):\n",
    "    def __init__(self):\n",
    "        super(Net, self).__init__()\n",
    "        self.conv1 = nn.Conv2d(in_channels=1,out_channels=32, kernel_size=2,padding=1)\n",
    "        self.conv2 = nn.Conv2d(in_channels=32,out_channels=64, kernel_size=2,padding=1)\n",
    "        self.conv3 = nn.Conv2d(in_channels=64,out_channels=128, kernel_size=2,padding=1)\n",
    "        self.fc1 = nn.Linear(128, 50)\n",
    "        self.fc2 = nn.Linear(50, 10)\n",
    "    def forward(self, x):\n",
    "        x = F.relu(F.max_pool2d(self.conv1(x),2))\n",
    "        x = F.relu(F.max_pool2d(self.conv2(x),2))\n",
    "        x = F.relu(F.max_pool2d(self.conv3(x),7))\n",
    "        x = x.view(x.size(0),-1)\n",
    "        x = F.relu(self.fc1(x))\n",
    "        x = self.fc2(x)\n",
    "        return x\n",
    "    \n",
    "net = Net()"
   ]
  },
  {
   "cell_type": "code",
   "execution_count": 3,
   "metadata": {},
   "outputs": [],
   "source": [
    "path_to_dataset = '/Users/beene/Documents/BMM-2023/SN_mnist/training' #ПУТЬ ДО ДАТАСЕТА"
   ]
  },
  {
   "cell_type": "code",
   "execution_count": 4,
   "metadata": {},
   "outputs": [
    {
     "data": {
      "text/plain": [
       "['.DS_Store', '9', '0', '7', '6', '1', '8', '4', '3', '2', '5']"
      ]
     },
     "execution_count": 4,
     "metadata": {},
     "output_type": "execute_result"
    }
   ],
   "source": [
    "os.listdir('training')"
   ]
  },
  {
   "cell_type": "code",
   "execution_count": 5,
   "metadata": {},
   "outputs": [],
   "source": [
    "data = []\n",
    "numbers = os.listdir('training')\n",
    "for number in numbers:\n",
    "    if number!=\".DS_Store\":\n",
    "        names = os.listdir('training/' + number)[:1000]\n",
    "        for name in names:\n",
    "            im_frame = Image.open(f'training/{number}/{name}')\n",
    "            np_frame = np.array(im_frame.getdata()).reshape(1,28,28)\n",
    "            data.append(np_frame)\n",
    "        \n",
    "data = np.array(data)"
   ]
  },
  {
   "cell_type": "code",
   "execution_count": 6,
   "metadata": {},
   "outputs": [],
   "source": [
    "class Dataset(Dataset):\n",
    "    def __init__(self, data):\n",
    "        self.data = torch.tensor(data/255).type(torch.float)\n",
    "        \n",
    "        labels = []\n",
    "        for i in range(10):\n",
    "            for j in range(int(len(data)/10)):\n",
    "                labels.append(i)\n",
    "        self.labels = labels\n",
    "    \n",
    "    def __getitem__(self, idx):\n",
    "        return self.data[idx], self.labels[idx]\n",
    "    \n",
    "    def __len__(self):\n",
    "        return len(self.data)"
   ]
  },
  {
   "cell_type": "code",
   "execution_count": 7,
   "metadata": {},
   "outputs": [],
   "source": [
    "dataset = Dataset(data)\n",
    "dataloader = DataLoader(dataset, shuffle=True, batch_size = 32)"
   ]
  },
  {
   "cell_type": "code",
   "execution_count": 8,
   "metadata": {},
   "outputs": [
    {
     "name": "stdout",
     "output_type": "stream",
     "text": [
      "Samples shape:  torch.Size([32, 1, 28, 28])\n",
      "Labels shape:  torch.Size([32])\n"
     ]
    }
   ],
   "source": [
    "samples, labels = next(iter(dataloader))\n",
    "\n",
    "print('Samples shape: ', samples.shape)\n",
    "print('Labels shape: ', labels.shape)"
   ]
  },
  {
   "cell_type": "code",
   "execution_count": 9,
   "metadata": {},
   "outputs": [],
   "source": [
    "criterion = nn.CrossEntropyLoss()\n",
    "optimizer = torch.optim.Adam(net.parameters(), lr=0.0009)"
   ]
  },
  {
   "cell_type": "code",
   "execution_count": 14,
   "metadata": {},
   "outputs": [
    {
     "name": "stdout",
     "output_type": "stream",
     "text": [
      "Epoch: 1, loss: 0.0010479817865416408\n",
      "Epoch: 2, loss: 0.07754584401845932\n",
      "Epoch: 3, loss: 0.1697636842727661\n",
      "Epoch: 4, loss: 0.11088471859693527\n",
      "Epoch: 5, loss: 0.0074396999552845955\n",
      "Epoch: 6, loss: 0.10072565078735352\n",
      "Epoch: 7, loss: 0.026062382385134697\n",
      "Epoch: 8, loss: 0.00031744575244374573\n",
      "Epoch: 9, loss: 0.009801927953958511\n",
      "Epoch: 10, loss: 0.00036245083902031183\n",
      "Epoch: 11, loss: 0.014585684984922409\n",
      "Epoch: 12, loss: 8.526111196260899e-05\n",
      "Epoch: 13, loss: 0.00045716436579823494\n",
      "Epoch: 14, loss: 0.0003709282318595797\n",
      "Epoch: 15, loss: 0.003158816136419773\n",
      "Epoch: 16, loss: 7.282865408342332e-05\n",
      "Epoch: 17, loss: 0.00010599569941405207\n",
      "Epoch: 18, loss: 0.004436803050339222\n",
      "Epoch: 19, loss: 2.2343150703818537e-05\n",
      "Epoch: 20, loss: 0.0010018125176429749\n"
     ]
    }
   ],
   "source": [
    "for epoch in range(20):\n",
    "    running_loss = 0.0\n",
    "    for samples, labels in dataloader:\n",
    "        pred = net(samples)\n",
    "        loss = criterion(pred, labels)\n",
    "        \n",
    "        loss.backward()\n",
    "        optimizer.step()\n",
    "        \n",
    "        optimizer.zero_grad()\n",
    "    print(f'Epoch: {epoch+1}, loss: {loss}')"
   ]
  },
  {
   "cell_type": "code",
   "execution_count": 18,
   "metadata": {},
   "outputs": [],
   "source": [
    "data = []\n",
    "numbers = os.listdir('training')\n",
    "for number in numbers:\n",
    "    if number!=\".DS_Store\":\n",
    "        names = os.listdir('training/' + number)[1000:2000]\n",
    "        for name in names:\n",
    "            im_frame = Image.open(f'training/{number}/{name}')\n",
    "            np_frame = np.array(im_frame.getdata()).reshape(1,28,28)\n",
    "            data.append(np_frame)\n",
    "        \n",
    "data = np.array(data)"
   ]
  },
  {
   "cell_type": "code",
   "execution_count": 19,
   "metadata": {},
   "outputs": [],
   "source": [
    "dataset = Dataset(data)\n",
    "dataloader = DataLoader(dataset, shuffle=True, batch_size = 32)"
   ]
  },
  {
   "cell_type": "code",
   "execution_count": 20,
   "metadata": {},
   "outputs": [
    {
     "name": "stdout",
     "output_type": "stream",
     "text": [
      "tensor(1.)\n"
     ]
    }
   ],
   "source": [
    "cnt=0\n",
    "for sample, label in dataloader:\n",
    "    pred = net(sample)\n",
    "    _, v = torch.max(pred, 1)\n",
    "    l=torch.sum(v == label)\n",
    "    cnt+=l\n",
    "print(cnt/len(dataset))\n",
    "\n",
    "\n",
    "    "
   ]
  },
  {
   "cell_type": "code",
   "execution_count": 21,
   "metadata": {},
   "outputs": [
    {
     "data": {
      "text/plain": [
       "2777.777777777778"
      ]
     },
     "execution_count": 21,
     "metadata": {},
     "output_type": "execute_result"
    }
   ],
   "source": [
    "10000/3.6"
   ]
  },
  {
   "cell_type": "code",
   "execution_count": null,
   "metadata": {},
   "outputs": [],
   "source": []
  }
 ],
 "metadata": {
  "kernelspec": {
   "display_name": "Python 3",
   "language": "python",
   "name": "python3"
  },
  "language_info": {
   "codemirror_mode": {
    "name": "ipython",
    "version": 3
   },
   "file_extension": ".py",
   "mimetype": "text/x-python",
   "name": "python",
   "nbconvert_exporter": "python",
   "pygments_lexer": "ipython3",
   "version": "3.11.0"
  },
  "orig_nbformat": 4
 },
 "nbformat": 4,
 "nbformat_minor": 2
}
