{
 "cells": [
  {
   "cell_type": "code",
   "execution_count": 1,
   "metadata": {},
   "outputs": [],
   "source": [
    "import cv2\n",
    "import numpy as np\n",
    "import mediapipe as mp\n",
    "import os\n",
    "from collections import namedtuple\n",
    "from math import sqrt\n",
    "from statistics import mean\n"
   ]
  },
  {
   "cell_type": "code",
   "execution_count": 2,
   "metadata": {},
   "outputs": [],
   "source": [
    "Point = namedtuple('Point', ['x', 'y'])\n",
    "\n",
    "\n",
    "def length_between_points(a: Point, b: Point):\n",
    "    squared = (pow(a.x - b.x, 2) + pow(a.y - b.y, 2))\n",
    "    return sqrt(squared)\n",
    "\n",
    "def normalize(raw):\n",
    "    return [float(i)/max(raw) for i in raw]\n",
    "\n",
    "def is_roughly_circle(x, y, confidence=0.1):\n",
    "    center = Point(x=mean(x), y=mean(y))\n",
    "    points = [Point(x[i], y[i]) for i in range(len(x))]\n",
    "\n",
    "    lengths_from_center = [length_between_points(p, center) for p in points]\n",
    "    normalized = normalize(lengths_from_center)\n",
    "    is_circle = all([length > 1 - confidence for length in normalized])\n",
    "    return is_circle"
   ]
  },
  {
   "cell_type": "code",
   "execution_count": 3,
   "metadata": {},
   "outputs": [
    {
     "name": "stderr",
     "output_type": "stream",
     "text": [
      "INFO: Created TensorFlow Lite XNNPACK delegate for CPU.\n"
     ]
    }
   ],
   "source": [
    "# Подключаем камеру\n",
    "\n",
    "cap = cv2.VideoCapture(0) \n",
    "cap.set(3, 640) # Width\n",
    "cap.set(4, 480) # Lenght\n",
    "cap.set(10, 100) # Brightness\n",
    "\n",
    "\n",
    "mpHands = mp.solutions.hands\n",
    "hands = mpHands.Hands(False)\n",
    "npDraw = mp.solutions.drawing_utils\n",
    "a = []\n",
    "pTime = 0\n",
    "cTime = 0\n",
    "data = []\n",
    "tt = 0\n",
    "cnt=0\n",
    "ans = ''\n",
    "while True:\n",
    "    \n",
    "    success, img = cap.read()\n",
    "    img = cv2.flip(img,1) # Mirror flip\n",
    "    cx8=0\n",
    "    imgRGB = cv2.cvtColor(img, cv2.COLOR_BGR2RGB)\n",
    "    results = hands.process(imgRGB)\n",
    "    pred2 = []\n",
    "    if results.multi_hand_landmarks:\n",
    "        for handLms in results.multi_hand_landmarks:\n",
    "            b = []\n",
    "            for id, lm in enumerate(handLms.landmark):\n",
    "                h,w,c = img.shape\n",
    "                cx, cy = int(lm.x*w), int(lm.y*h)\n",
    "                b.append(lm.x)\n",
    "                b.append(lm.y)\n",
    "                if id == 8:\n",
    "                    cx8 = cx\n",
    "                if  id == 8 or id == 12:\n",
    "                    cv2.circle(img, (cx,cy),10,(255,0,255),cv2.FILLED)\n",
    "            \n",
    "            npDraw.draw_landmarks(img, handLms, mpHands.HAND_CONNECTIONS)\n",
    "            a. append(b)\n",
    "    else:\n",
    "         ans='nogest'\n",
    "    \n",
    "    if len(a)==20:\n",
    "        coord=[]\n",
    "        x=[]\n",
    "        y=[]\n",
    "        for i in a:\n",
    "            coord.append(i[8])\n",
    "        for i in range(len(coord)):\n",
    "            if i==0 or i%2==0:\n",
    "                x.append(coord[i])\n",
    "            else:\n",
    "                y.append(coord[i])\n",
    "        print(is_roughly_circle(x,y))\n",
    "        if is_roughly_circle(x,y,confidence=0.5)==True:\n",
    "            print(\"circle\")\n",
    "        a=[]\n",
    "    \n",
    "    cv2.imshow('python', img)\n",
    "    if cv2.waitKey(20) == 27: # exit on ESC\n",
    "        break\n",
    "\n",
    "cv2.destroyWindow(\"python\")\n",
    "cap.release()\n",
    "cv2.waitKey(1)\n"
   ]
  },
  {
   "cell_type": "code",
   "execution_count": null,
   "metadata": {},
   "outputs": [],
   "source": []
  }
 ],
 "metadata": {
  "kernelspec": {
   "display_name": "Python 3",
   "language": "python",
   "name": "python3"
  },
  "language_info": {
   "codemirror_mode": {
    "name": "ipython",
    "version": 3
   },
   "file_extension": ".py",
   "mimetype": "text/x-python",
   "name": "python",
   "nbconvert_exporter": "python",
   "pygments_lexer": "ipython3",
   "version": "3.11.0"
  },
  "orig_nbformat": 4
 },
 "nbformat": 4,
 "nbformat_minor": 2
}
