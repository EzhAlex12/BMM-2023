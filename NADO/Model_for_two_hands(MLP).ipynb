{
 "cells": [
  {
   "cell_type": "code",
   "execution_count": 1,
   "id": "e278d53d",
   "metadata": {},
   "outputs": [],
   "source": [
    "#СОЗДАЕТ И ОБУЧАЕТ МОДЕЛЬ (MLP) ПО МОДЕЛИ СОЗДАЕТ МАССИВ МАКСИМУМОВ\n",
    "import torch\n",
    "import torch.nn as nn\n",
    "import numpy as np\n",
    "import json\n",
    "from PIL import Image\n",
    "from torch.utils.data import Dataset, DataLoader\n",
    "import os    \n",
    "import mediapipe as mp\n",
    "import torch.nn.functional as F\n",
    "import cv2\n",
    "import time\n",
    "import sys\n",
    "os.environ['KMP_DUPLICATE_LIB_OK'] = 'True'"
   ]
  },
  {
   "cell_type": "code",
   "execution_count": 14,
   "id": "2498d734",
   "metadata": {},
   "outputs": [],
   "source": [
    "hand = 'l'"
   ]
  },
  {
   "cell_type": "code",
   "execution_count": 15,
   "id": "cfc546b1",
   "metadata": {},
   "outputs": [],
   "source": [
    "path_to_model = \"D:/BMM/models/\" + hand + \"_model.pth\" #СЮДА СОХРАНИТ МОДЕЛЬ\n",
    "path_to_dataset = \"D:/BMM/datasets/\" + hand + \"_dataset/\" #ЗДЕСЬ БУДЕТ ИСКАТЬ ДАТАСЕТЫ (r_dataset / l_dataset)\n",
    "path_to_maxmass = \"D:/BMM/maxmasses/\" + hand + \"_maxmass\" #СЮДА СОХРАНИТ МАССИВ МАКСИМУМОВ"
   ]
  },
  {
   "cell_type": "code",
   "execution_count": 16,
   "id": "c6cb90bb",
   "metadata": {},
   "outputs": [],
   "source": [
    "class Dataset(Dataset):\n",
    "    def __init__(self, *args): #получаем n массивов данных\n",
    "        cnt, labels, temp =0, [], []\n",
    "        self.data = []\n",
    "        for data in args: #выделяем по одному из них\n",
    "            self.data.extend(torch.tensor(data).type(torch.float32)) # преобразуем каждый в тензор и добавляем к общим данным\n",
    "            print(len(data))\n",
    "            for j in range(len(data)):\n",
    "                labels.append(cnt) #присовим номера каждому подмассиву для проверки\n",
    "            cnt += 1\n",
    "        self.labels = labels\n",
    "            \n",
    "    def __getitem__(self, idx):\n",
    "        return self.data[idx], self.labels[idx]\n",
    "    \n",
    "    def __len__(self):\n",
    "        return len(self.data)\n",
    "    \n",
    "class Net(nn.Module):\n",
    "    def __init__(self):\n",
    "        super(Net, self).__init__()\n",
    "        self.fc1 = nn.Linear(42, 256)\n",
    "        self.fc2 = nn.Linear(256, 128)\n",
    "        self.fc4 = nn.Linear(128, 2)\n",
    "    def forward(self, x):\n",
    "        x = F.leaky_relu(self.fc1(x),negative_slope=0.001)\n",
    "        x = F.leaky_relu(self.fc2(x),negative_slope=0.001)\n",
    "        x = self.fc4(x)\n",
    "        return x"
   ]
  },
  {
   "cell_type": "code",
   "execution_count": 17,
   "id": "ed04c34c",
   "metadata": {},
   "outputs": [
    {
     "name": "stdout",
     "output_type": "stream",
     "text": [
      "l_kulak.txt\n",
      "l_ladon.txt\n"
     ]
    }
   ],
   "source": [
    "data, temp = [],[]\n",
    "gests = os.listdir(path_to_dataset)\n",
    "for gest in gests:\n",
    "    data = []\n",
    "    print(gest)\n",
    "    f = open(path_to_dataset + str(gest)).readline()\n",
    "    f = json.loads(f)\n",
    "    for i in range (len(f)):\n",
    "        data.append(f[i])\n",
    "    temp.append(data)\n",
    "if hand == 'l':\n",
    "    data = np.array(temp ,dtype = 'object') \n",
    "elif hand == 'r':  \n",
    "    data = np.array(temp)\n",
    "dataset = Dataset(*data)\n",
    "dataloader = DataLoader(dataset, shuffle=True, batch_size = 16)"
   ]
  },
  {
   "cell_type": "code",
   "execution_count": 19,
   "id": "72478fb0",
   "metadata": {},
   "outputs": [],
   "source": [
    "net = Net()\n",
    "criterion = nn.CrossEntropyLoss()\n",
    "optimizer = torch.optim.Adam(net.parameters(), lr=0.001, weight_decay=1e-5)"
   ]
  },
  {
   "cell_type": "code",
   "execution_count": 22,
   "id": "cc3e3ae4",
   "metadata": {},
   "outputs": [
    {
     "name": "stdout",
     "output_type": "stream",
     "text": [
      "0.2978659213210146\n",
      "0.012931950044788657\n",
      "0.0030998466776624794\n",
      "0.0013676149500829596\n",
      "0.0008013079073169225\n",
      "0.0005361589919918934\n",
      "0.00038218901167893485\n",
      "0.00029067978461431006\n",
      "0.0002113910431078347\n",
      "0.000178242727391383\n",
      "0.00013982081899095128\n",
      "0.00011483630696025174\n",
      "0.00010053713965986851\n",
      "8.736237065484543e-05\n",
      "7.54683881221729e-05\n",
      "8.092936620833205e-05\n",
      "6.214754150624642e-05\n",
      "6.172036760218029e-05\n",
      "5.946989230078688e-05\n",
      "5.493322559564221e-05\n",
      "Finished Training\n"
     ]
    }
   ],
   "source": [
    "for epoch in range(20):\n",
    "    running_loss = 0.0\n",
    "    for samples, labels in dataloader:\n",
    "        pred = net(samples)\n",
    "        loss = criterion(pred, labels)\n",
    "        \n",
    "        loss.backward()\n",
    "        optimizer.step()\n",
    "        \n",
    "        optimizer.zero_grad()\n",
    "        running_loss += loss.item()\n",
    "    print(running_loss/len(dataloader))\n",
    "print('Finished Training')"
   ]
  },
  {
   "cell_type": "code",
   "execution_count": 23,
   "id": "6ab8cfba",
   "metadata": {},
   "outputs": [],
   "source": [
    "torch.save(net,path_to_model)"
   ]
  },
  {
   "cell_type": "code",
   "execution_count": 24,
   "id": "f34cca12",
   "metadata": {},
   "outputs": [
    {
     "name": "stdout",
     "output_type": "stream",
     "text": [
      "СРЕДНИЕ МАКСИМУМЫ КАЖДОГО ЖЕСТА [5.045858645819098, 7.284374559794987]\n"
     ]
    }
   ],
   "source": [
    "tmaxmass =[[0,0],[0,0]] # ДЛИНА МАССИВА ДАЛЖНА БЫТЬ РАВНА КОЛИЧЕСТВУ ЖЕСТОВ\n",
    "#tmaxmass = [[1,2],[3,4],[5,6],[7,8]]\n",
    "for epoch in range(15):\n",
    "    for samples, labels in dataloader:\n",
    "        for j in samples:\n",
    "            pred = net(j).tolist()\n",
    "            mx = max(pred)\n",
    "            mxid = pred.index(mx)\n",
    "            tmaxmass[mxid][0] = tmaxmass[mxid][0] + mx\n",
    "            tmaxmass[mxid][1] = tmaxmass[mxid][1] + 1\n",
    "maxmass = [tmaxmass[i][0] / tmaxmass[i][1] for i in range(len(tmaxmass)) ]\n",
    "print('СРЕДНИЕ МАКСИМУМЫ КАЖДОГО ЖЕСТА', maxmass)\n",
    "gests = [i[:-4] for i in gests]"
   ]
  },
  {
   "cell_type": "code",
   "execution_count": 25,
   "id": "8cc1cbf4",
   "metadata": {},
   "outputs": [],
   "source": [
    "maxmass = np.array(maxmass)\n",
    "np.set_printoptions(threshold=sys.maxsize)\n",
    "np.save(path_to_maxmass, maxmass)"
   ]
  },
  {
   "cell_type": "code",
   "execution_count": null,
   "id": "8c453b0a",
   "metadata": {},
   "outputs": [],
   "source": []
  }
 ],
 "metadata": {
  "kernelspec": {
   "display_name": "Python 3 (ipykernel)",
   "language": "python",
   "name": "python3"
  },
  "language_info": {
   "codemirror_mode": {
    "name": "ipython",
    "version": 3
   },
   "file_extension": ".py",
   "mimetype": "text/x-python",
   "name": "python",
   "nbconvert_exporter": "python",
   "pygments_lexer": "ipython3",
   "version": "3.10.9"
  }
 },
 "nbformat": 4,
 "nbformat_minor": 5
}
