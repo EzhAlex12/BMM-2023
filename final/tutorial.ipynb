{
 "cells": [
  {
   "cell_type": "code",
   "execution_count": 26,
   "id": "ce36267f",
   "metadata": {},
   "outputs": [],
   "source": [
    "# |---dataset\n",
    "#     |---left_kulak.npy\n",
    "#     |---right_kulak.npy\n",
    "# |--->tutorial.ipynb"
   ]
  },
  {
   "cell_type": "markdown",
   "id": "e1df3507",
   "metadata": {},
   "source": [
    "# import "
   ]
  },
  {
   "cell_type": "code",
   "execution_count": 1,
   "id": "51960c13",
   "metadata": {},
   "outputs": [],
   "source": [
    "import cv2\n",
    "import numpy as np\n",
    "import mediapipe as mp\n",
    "import time\n",
    "import torch\n",
    "import torch.nn as nn\n",
    "import os\n",
    "from torch.utils.data import Dataset, DataLoader\n",
    "import torch.nn.functional as F"
   ]
  },
  {
   "cell_type": "code",
   "execution_count": 2,
   "id": "ee2c279c",
   "metadata": {},
   "outputs": [],
   "source": [
    "# MediaPipe\n",
    "npDraw = mp.solutions.drawing_utils\n",
    "mpHands = mp.solutions.hands\n",
    "hands = mp.solutions.hands.Hands(static_image_mode=False,\n",
    "                         max_num_hands=2,\n",
    "                         min_tracking_confidence=0.5,\n",
    "                         min_detection_confidence=0.5)"
   ]
  },
  {
   "cell_type": "markdown",
   "id": "3468567c",
   "metadata": {},
   "source": [
    "# Функция для записи жестов"
   ]
  },
  {
   "cell_type": "code",
   "execution_count": 41,
   "id": "170872c2",
   "metadata": {},
   "outputs": [],
   "source": [
    "def record(name):\n",
    "    data = []\n",
    "    #Зацикливаем получение кадров от камеры\n",
    "    cap = cv2.VideoCapture(0) \n",
    "    while True: \n",
    "        success, img = cap.read()\n",
    "        img = cv2.flip(img,1)\n",
    "        h,w,c = img.shape\n",
    "        imgRGB = cv2.cvtColor(img, cv2.COLOR_BGR2RGB)\n",
    "        results = hands.process(imgRGB)\n",
    "\n",
    "        if results.multi_hand_landmarks:\n",
    "            for handLms in results.multi_hand_landmarks:\n",
    "                tmp = []\n",
    "                for id, lm in enumerate(handLms.landmark):\n",
    "                    tmp.append(lm.x)\n",
    "                    tmp.append(lm.y)\n",
    "\n",
    "\n",
    "                npDraw.draw_landmarks(img, handLms, mpHands.HAND_CONNECTIONS)\n",
    "                data.append(tmp)\n",
    "\n",
    "\n",
    "        cv2.putText(img, str(len(data)),(100,30), cv2.FONT_HERSHEY_PLAIN, 2, (255,0,0), 2)\n",
    "        cv2.imshow('python', img)\n",
    "        if cv2.waitKey(1)>-1:\n",
    "            break\n",
    "\n",
    "    cv2.destroyAllWindows()\n",
    "    np.save(name, data)\n",
    "    return np.array(data)"
   ]
  },
  {
   "cell_type": "code",
   "execution_count": 19,
   "id": "014a6ec0",
   "metadata": {},
   "outputs": [],
   "source": [
    "r = record('dataset/right_kulak.npy')"
   ]
  },
  {
   "cell_type": "markdown",
   "id": "63dea70e",
   "metadata": {},
   "source": [
    "# Выгрузка жестов "
   ]
  },
  {
   "cell_type": "code",
   "execution_count": 3,
   "id": "1d90f5aa",
   "metadata": {},
   "outputs": [
    {
     "name": "stdout",
     "output_type": "stream",
     "text": [
      "total gestures: 2\n",
      "names: ['left_kulak', 'right_kulak']\n"
     ]
    }
   ],
   "source": [
    "data = []\n",
    "names = []\n",
    "for gesture in os.listdir('dataset'):\n",
    "    names.append(gesture[:-4])\n",
    "    array = np.load(f'dataset/{gesture}')\n",
    "    data.append(array)\n",
    "    \n",
    "print(f'total gestures: {len(data)}')\n",
    "print(f'names: {names}')"
   ]
  },
  {
   "cell_type": "markdown",
   "id": "261435b4",
   "metadata": {},
   "source": [
    "# dataset, dataloader"
   ]
  },
  {
   "cell_type": "code",
   "execution_count": 4,
   "id": "d80ce413",
   "metadata": {},
   "outputs": [],
   "source": [
    "class Dataset(Dataset): \n",
    "    def __init__(self, tmp): #получаем n массивов данных \n",
    "        data = []\n",
    "        labels = []\n",
    "        for i, gesture in enumerate(tmp):\n",
    "            for sample in gesture:\n",
    "                data.append(sample)\n",
    "                labels.append(i)\n",
    "        \n",
    "        self.data = torch.tensor(data).type(torch.float)\n",
    "        self.labels = torch.tensor(labels)\n",
    "        \n",
    "    def __getitem__(self, idx): \n",
    "        return self.data[idx], self.labels[idx] \n",
    "     \n",
    "    def __len__(self): \n",
    "        return len(self.data)"
   ]
  },
  {
   "cell_type": "code",
   "execution_count": 5,
   "id": "3168971d",
   "metadata": {},
   "outputs": [
    {
     "name": "stdout",
     "output_type": "stream",
     "text": [
      "total smaples: 63\n"
     ]
    }
   ],
   "source": [
    "dataset = Dataset(data)\n",
    "dataloader = DataLoader(dataset, shuffle=True, batch_size=16)\n",
    "print(f'total smaples: {len(dataset)}')"
   ]
  },
  {
   "cell_type": "markdown",
   "id": "3535f44f",
   "metadata": {},
   "source": [
    "# Модель"
   ]
  },
  {
   "cell_type": "code",
   "execution_count": 6,
   "id": "b99915aa",
   "metadata": {},
   "outputs": [],
   "source": [
    "class Net(nn.Module):\n",
    "    def __init__(self):\n",
    "        super(Net, self).__init__()\n",
    "        self.fc1 = nn.Linear(42, 256)\n",
    "        self.fc2 = nn.Linear(256, 64)\n",
    "        self.fc3 = nn.Linear(64, 6)\n",
    "    def forward(self, x):\n",
    "        x = F.leaky_relu(self.fc1(x),negative_slope=0.001)\n",
    "        x = F.leaky_relu(self.fc2(x),negative_slope=0.001)\n",
    "        x = self.fc3(x)\n",
    "        return x\n",
    "\n",
    "net = Net()"
   ]
  },
  {
   "cell_type": "markdown",
   "id": "f5aa80c2",
   "metadata": {},
   "source": [
    "# Обученние"
   ]
  },
  {
   "cell_type": "code",
   "execution_count": 7,
   "id": "0ed06d99",
   "metadata": {},
   "outputs": [
    {
     "name": "stdout",
     "output_type": "stream",
     "text": [
      "1.7028637528419495\n",
      "1.4426083862781525\n",
      "1.1657361686229706\n",
      "0.8920300453901291\n",
      "0.7171850353479385\n",
      "0.6410658061504364\n",
      "0.6049304902553558\n",
      "0.5864267647266388\n",
      "0.5598400980234146\n",
      "0.5416528955101967\n",
      "0.5187678039073944\n",
      "0.49206987768411636\n",
      "0.473278671503067\n",
      "0.44399627298116684\n",
      "0.4257565438747406\n",
      "Finished Training\n"
     ]
    }
   ],
   "source": [
    "criterion = nn.CrossEntropyLoss()\n",
    "optimizer = torch.optim.Adam(net.parameters(), lr=0.001, weight_decay=1e-5)\n",
    "for epoch in range(15):\n",
    "    running_loss = 0.0\n",
    "    for samples, labels in dataloader:\n",
    "        pred = net(samples)\n",
    "        loss = criterion(pred, labels)\n",
    "        \n",
    "        loss.backward()\n",
    "        optimizer.step()\n",
    "        \n",
    "        optimizer.zero_grad()\n",
    "        running_loss += loss.item()\n",
    "    print(running_loss/len(dataloader))\n",
    "print('Finished Training')"
   ]
  },
  {
   "cell_type": "markdown",
   "id": "ddeb6f5a",
   "metadata": {},
   "source": [
    "# Скрипт для теста "
   ]
  },
  {
   "cell_type": "code",
   "execution_count": 25,
   "id": "7d74793d",
   "metadata": {},
   "outputs": [],
   "source": [
    "cap = cv2.VideoCapture(0)\n",
    "while True: \n",
    "    success, img = cap.read()\n",
    "    img = cv2.flip(img,1)\n",
    "    h,w,c = img.shape\n",
    "    imgRGB = cv2.cvtColor(img, cv2.COLOR_BGR2RGB)\n",
    "    results = hands.process(imgRGB)\n",
    "\n",
    "    if results.multi_hand_landmarks:\n",
    "        for handLms in results.multi_hand_landmarks:\n",
    "            tmp = []\n",
    "            for id, lm in enumerate(handLms.landmark):\n",
    "                tmp.append(lm.x)\n",
    "                tmp.append(lm.y)\n",
    "\n",
    "\n",
    "            npDraw.draw_landmarks(img, handLms, mpHands.HAND_CONNECTIONS)\n",
    "            \n",
    "            for_model = torch.tensor(tmp).type(torch.float)\n",
    "            pred = net(for_model)\n",
    "            \n",
    "            v, i = torch.max(pred, 0)\n",
    "            \n",
    "            cv2.putText(img, names[i.item()],(30,30), cv2.FONT_HERSHEY_PLAIN, 2, (255,0,0), 2)\n",
    "    cv2.imshow('python', img)\n",
    "    if cv2.waitKey(1)>-1:\n",
    "        break\n",
    "\n",
    "cv2.destroyAllWindows()\n"
   ]
  },
  {
   "cell_type": "code",
   "execution_count": null,
   "id": "a63b8dc9",
   "metadata": {},
   "outputs": [],
   "source": []
  }
 ],
 "metadata": {
  "kernelspec": {
   "display_name": "Python 3",
   "language": "python",
   "name": "python3"
  },
  "language_info": {
   "codemirror_mode": {
    "name": "ipython",
    "version": 3
   },
   "file_extension": ".py",
   "mimetype": "text/x-python",
   "name": "python",
   "nbconvert_exporter": "python",
   "pygments_lexer": "ipython3",
   "version": "3.8.8"
  }
 },
 "nbformat": 4,
 "nbformat_minor": 5
}
